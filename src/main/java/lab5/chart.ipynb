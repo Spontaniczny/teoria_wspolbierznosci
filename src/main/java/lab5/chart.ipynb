{
 "cells": [
  {
   "cell_type": "code",
   "execution_count": 1,
   "id": "initial_id",
   "metadata": {
    "collapsed": true,
    "ExecuteTime": {
     "end_time": "2023-11-23T06:39:18.424883800Z",
     "start_time": "2023-11-23T06:39:16.763329600Z"
    }
   },
   "outputs": [
    {
     "data": {
      "text/plain": "    Iterations  Threads   Tasks     Average     Deviation\n0          500        1       1    82919830  1.710834e+07\n1          500        1      10    62344500  1.075920e+06\n2          500        1  250000   126933220  1.495210e+07\n3          500        4       4    18593329  2.099902e+06\n4          500        4      40    17780589  3.306598e+05\n5          500        4  250000    76927870  1.501475e+07\n6          500        8       8    10822540  2.621285e+05\n7          500        8      80    62479509  3.255514e+06\n8          500        8  250000    77227930  1.953094e+07\n9         1000        1       1   117231669  6.051938e+06\n10        1000        1      10   114996040  1.135719e+06\n11        1000        1  250000   168621059  7.096989e+06\n12        1000        4       4    32880000  1.218734e+06\n13        1000        4      40    31706789  4.589889e+05\n14        1000        4  250000    88620879  1.425719e+07\n15        1000        8       8    23950510  1.655610e+07\n16        1000        8      80   115527760  1.188750e+06\n17        1000        8  250000    76161560  1.007393e+07\n18        5000        1       1   543173829  1.166858e+06\n19        5000        1      10   546738309  5.538104e+06\n20        5000        1  250000   630168320  1.458132e+07\n21        5000        4       4   154158339  1.471770e+07\n22        5000        4      40   145302339  1.995585e+06\n23        5000        4  250000   212435020  2.343580e+07\n24        5000        8       8    85034130  3.180034e+06\n25        5000        8      80   546733179  5.178224e+06\n26        5000        8  250000   131929540  9.184514e+06\n27       10000        1       1  1082590160  4.897803e+06\n28       10000        1      10  1085374090  5.133044e+06\n29       10000        1  250000  1184842899  1.711507e+07\n30       10000        4       4   299458910  3.240208e+06\n31       10000        4      40   290074870  1.015493e+07\n32       10000        4  250000   349711109  2.071623e+07\n33       10000        8       8   168527049  5.429546e+06\n34       10000        8      80  1079835089  5.675139e+06\n35       10000        8  250000   227386490  2.233302e+07",
      "text/html": "<div>\n<style scoped>\n    .dataframe tbody tr th:only-of-type {\n        vertical-align: middle;\n    }\n\n    .dataframe tbody tr th {\n        vertical-align: top;\n    }\n\n    .dataframe thead th {\n        text-align: right;\n    }\n</style>\n<table border=\"1\" class=\"dataframe\">\n  <thead>\n    <tr style=\"text-align: right;\">\n      <th></th>\n      <th>Iterations</th>\n      <th>Threads</th>\n      <th>Tasks</th>\n      <th>Average</th>\n      <th>Deviation</th>\n    </tr>\n  </thead>\n  <tbody>\n    <tr>\n      <th>0</th>\n      <td>500</td>\n      <td>1</td>\n      <td>1</td>\n      <td>82919830</td>\n      <td>1.710834e+07</td>\n    </tr>\n    <tr>\n      <th>1</th>\n      <td>500</td>\n      <td>1</td>\n      <td>10</td>\n      <td>62344500</td>\n      <td>1.075920e+06</td>\n    </tr>\n    <tr>\n      <th>2</th>\n      <td>500</td>\n      <td>1</td>\n      <td>250000</td>\n      <td>126933220</td>\n      <td>1.495210e+07</td>\n    </tr>\n    <tr>\n      <th>3</th>\n      <td>500</td>\n      <td>4</td>\n      <td>4</td>\n      <td>18593329</td>\n      <td>2.099902e+06</td>\n    </tr>\n    <tr>\n      <th>4</th>\n      <td>500</td>\n      <td>4</td>\n      <td>40</td>\n      <td>17780589</td>\n      <td>3.306598e+05</td>\n    </tr>\n    <tr>\n      <th>5</th>\n      <td>500</td>\n      <td>4</td>\n      <td>250000</td>\n      <td>76927870</td>\n      <td>1.501475e+07</td>\n    </tr>\n    <tr>\n      <th>6</th>\n      <td>500</td>\n      <td>8</td>\n      <td>8</td>\n      <td>10822540</td>\n      <td>2.621285e+05</td>\n    </tr>\n    <tr>\n      <th>7</th>\n      <td>500</td>\n      <td>8</td>\n      <td>80</td>\n      <td>62479509</td>\n      <td>3.255514e+06</td>\n    </tr>\n    <tr>\n      <th>8</th>\n      <td>500</td>\n      <td>8</td>\n      <td>250000</td>\n      <td>77227930</td>\n      <td>1.953094e+07</td>\n    </tr>\n    <tr>\n      <th>9</th>\n      <td>1000</td>\n      <td>1</td>\n      <td>1</td>\n      <td>117231669</td>\n      <td>6.051938e+06</td>\n    </tr>\n    <tr>\n      <th>10</th>\n      <td>1000</td>\n      <td>1</td>\n      <td>10</td>\n      <td>114996040</td>\n      <td>1.135719e+06</td>\n    </tr>\n    <tr>\n      <th>11</th>\n      <td>1000</td>\n      <td>1</td>\n      <td>250000</td>\n      <td>168621059</td>\n      <td>7.096989e+06</td>\n    </tr>\n    <tr>\n      <th>12</th>\n      <td>1000</td>\n      <td>4</td>\n      <td>4</td>\n      <td>32880000</td>\n      <td>1.218734e+06</td>\n    </tr>\n    <tr>\n      <th>13</th>\n      <td>1000</td>\n      <td>4</td>\n      <td>40</td>\n      <td>31706789</td>\n      <td>4.589889e+05</td>\n    </tr>\n    <tr>\n      <th>14</th>\n      <td>1000</td>\n      <td>4</td>\n      <td>250000</td>\n      <td>88620879</td>\n      <td>1.425719e+07</td>\n    </tr>\n    <tr>\n      <th>15</th>\n      <td>1000</td>\n      <td>8</td>\n      <td>8</td>\n      <td>23950510</td>\n      <td>1.655610e+07</td>\n    </tr>\n    <tr>\n      <th>16</th>\n      <td>1000</td>\n      <td>8</td>\n      <td>80</td>\n      <td>115527760</td>\n      <td>1.188750e+06</td>\n    </tr>\n    <tr>\n      <th>17</th>\n      <td>1000</td>\n      <td>8</td>\n      <td>250000</td>\n      <td>76161560</td>\n      <td>1.007393e+07</td>\n    </tr>\n    <tr>\n      <th>18</th>\n      <td>5000</td>\n      <td>1</td>\n      <td>1</td>\n      <td>543173829</td>\n      <td>1.166858e+06</td>\n    </tr>\n    <tr>\n      <th>19</th>\n      <td>5000</td>\n      <td>1</td>\n      <td>10</td>\n      <td>546738309</td>\n      <td>5.538104e+06</td>\n    </tr>\n    <tr>\n      <th>20</th>\n      <td>5000</td>\n      <td>1</td>\n      <td>250000</td>\n      <td>630168320</td>\n      <td>1.458132e+07</td>\n    </tr>\n    <tr>\n      <th>21</th>\n      <td>5000</td>\n      <td>4</td>\n      <td>4</td>\n      <td>154158339</td>\n      <td>1.471770e+07</td>\n    </tr>\n    <tr>\n      <th>22</th>\n      <td>5000</td>\n      <td>4</td>\n      <td>40</td>\n      <td>145302339</td>\n      <td>1.995585e+06</td>\n    </tr>\n    <tr>\n      <th>23</th>\n      <td>5000</td>\n      <td>4</td>\n      <td>250000</td>\n      <td>212435020</td>\n      <td>2.343580e+07</td>\n    </tr>\n    <tr>\n      <th>24</th>\n      <td>5000</td>\n      <td>8</td>\n      <td>8</td>\n      <td>85034130</td>\n      <td>3.180034e+06</td>\n    </tr>\n    <tr>\n      <th>25</th>\n      <td>5000</td>\n      <td>8</td>\n      <td>80</td>\n      <td>546733179</td>\n      <td>5.178224e+06</td>\n    </tr>\n    <tr>\n      <th>26</th>\n      <td>5000</td>\n      <td>8</td>\n      <td>250000</td>\n      <td>131929540</td>\n      <td>9.184514e+06</td>\n    </tr>\n    <tr>\n      <th>27</th>\n      <td>10000</td>\n      <td>1</td>\n      <td>1</td>\n      <td>1082590160</td>\n      <td>4.897803e+06</td>\n    </tr>\n    <tr>\n      <th>28</th>\n      <td>10000</td>\n      <td>1</td>\n      <td>10</td>\n      <td>1085374090</td>\n      <td>5.133044e+06</td>\n    </tr>\n    <tr>\n      <th>29</th>\n      <td>10000</td>\n      <td>1</td>\n      <td>250000</td>\n      <td>1184842899</td>\n      <td>1.711507e+07</td>\n    </tr>\n    <tr>\n      <th>30</th>\n      <td>10000</td>\n      <td>4</td>\n      <td>4</td>\n      <td>299458910</td>\n      <td>3.240208e+06</td>\n    </tr>\n    <tr>\n      <th>31</th>\n      <td>10000</td>\n      <td>4</td>\n      <td>40</td>\n      <td>290074870</td>\n      <td>1.015493e+07</td>\n    </tr>\n    <tr>\n      <th>32</th>\n      <td>10000</td>\n      <td>4</td>\n      <td>250000</td>\n      <td>349711109</td>\n      <td>2.071623e+07</td>\n    </tr>\n    <tr>\n      <th>33</th>\n      <td>10000</td>\n      <td>8</td>\n      <td>8</td>\n      <td>168527049</td>\n      <td>5.429546e+06</td>\n    </tr>\n    <tr>\n      <th>34</th>\n      <td>10000</td>\n      <td>8</td>\n      <td>80</td>\n      <td>1079835089</td>\n      <td>5.675139e+06</td>\n    </tr>\n    <tr>\n      <th>35</th>\n      <td>10000</td>\n      <td>8</td>\n      <td>250000</td>\n      <td>227386490</td>\n      <td>2.233302e+07</td>\n    </tr>\n  </tbody>\n</table>\n</div>"
     },
     "metadata": {},
     "output_type": "display_data"
    }
   ],
   "source": [
    "import pandas as pd\n",
    "\n",
    "data = pd.read_csv(\"results.csv\")\n",
    "display(data)"
   ]
  }
 ],
 "metadata": {
  "kernelspec": {
   "display_name": "Python 3",
   "language": "python",
   "name": "python3"
  },
  "language_info": {
   "codemirror_mode": {
    "name": "ipython",
    "version": 2
   },
   "file_extension": ".py",
   "mimetype": "text/x-python",
   "name": "python",
   "nbconvert_exporter": "python",
   "pygments_lexer": "ipython2",
   "version": "2.7.6"
  }
 },
 "nbformat": 4,
 "nbformat_minor": 5
}
